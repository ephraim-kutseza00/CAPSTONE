{
 "cells": [
  {
   "cell_type": "code",
   "execution_count": 6,
   "metadata": {},
   "outputs": [
    {
     "ename": "AssertionError",
     "evalue": "No data found in the saved file",
     "output_type": "error",
     "traceback": [
      "\u001b[1;31m---------------------------------------------------------------------------\u001b[0m",
      "\u001b[1;31mAssertionError\u001b[0m                            Traceback (most recent call last)",
      "Cell \u001b[1;32mIn[6], line 13\u001b[0m\n\u001b[0;32m     10\u001b[0m pytorch_variables_path \u001b[38;5;241m=\u001b[39m \u001b[38;5;124mf\u001b[39m\u001b[38;5;124m'\u001b[39m\u001b[38;5;132;01m{\u001b[39;00mmodel_dir\u001b[38;5;132;01m}\u001b[39;00m\u001b[38;5;124m/pytorch_variables.pth\u001b[39m\u001b[38;5;124m'\u001b[39m\n\u001b[0;32m     12\u001b[0m \u001b[38;5;66;03m# Load the model\u001b[39;00m\n\u001b[1;32m---> 13\u001b[0m model \u001b[38;5;241m=\u001b[39m \u001b[43mDQN\u001b[49m\u001b[38;5;241;43m.\u001b[39;49m\u001b[43mload\u001b[49m\u001b[43m(\u001b[49m\u001b[43mpolicy_path\u001b[49m\u001b[43m)\u001b[49m  \u001b[38;5;66;03m# Adjust this if you used a different algorithm\u001b[39;00m\n\u001b[0;32m     15\u001b[0m \u001b[38;5;66;03m# Load optimizer state (if resuming training)\u001b[39;00m\n\u001b[0;32m     16\u001b[0m optimizer_state_dict \u001b[38;5;241m=\u001b[39m torch\u001b[38;5;241m.\u001b[39mload(policy_optimizer_path)\n",
      "File \u001b[1;32mc:\\Users\\kutsezae\\AppData\\Local\\anaconda3\\envs\\project31\\lib\\site-packages\\stable_baselines3\\common\\base_class.py:687\u001b[0m, in \u001b[0;36mBaseAlgorithm.load\u001b[1;34m(cls, path, env, device, custom_objects, print_system_info, force_reset, **kwargs)\u001b[0m\n\u001b[0;32m    678\u001b[0m     get_system_info()\n\u001b[0;32m    680\u001b[0m data, params, pytorch_variables \u001b[38;5;241m=\u001b[39m load_from_zip_file(\n\u001b[0;32m    681\u001b[0m     path,\n\u001b[0;32m    682\u001b[0m     device\u001b[38;5;241m=\u001b[39mdevice,\n\u001b[0;32m    683\u001b[0m     custom_objects\u001b[38;5;241m=\u001b[39mcustom_objects,\n\u001b[0;32m    684\u001b[0m     print_system_info\u001b[38;5;241m=\u001b[39mprint_system_info,\n\u001b[0;32m    685\u001b[0m )\n\u001b[1;32m--> 687\u001b[0m \u001b[38;5;28;01massert\u001b[39;00m data \u001b[38;5;129;01mis\u001b[39;00m \u001b[38;5;129;01mnot\u001b[39;00m \u001b[38;5;28;01mNone\u001b[39;00m, \u001b[38;5;124m\"\u001b[39m\u001b[38;5;124mNo data found in the saved file\u001b[39m\u001b[38;5;124m\"\u001b[39m\n\u001b[0;32m    688\u001b[0m \u001b[38;5;28;01massert\u001b[39;00m params \u001b[38;5;129;01mis\u001b[39;00m \u001b[38;5;129;01mnot\u001b[39;00m \u001b[38;5;28;01mNone\u001b[39;00m, \u001b[38;5;124m\"\u001b[39m\u001b[38;5;124mNo params found in the saved file\u001b[39m\u001b[38;5;124m\"\u001b[39m\n\u001b[0;32m    690\u001b[0m \u001b[38;5;66;03m# Remove stored device information and replace with ours\u001b[39;00m\n",
      "\u001b[1;31mAssertionError\u001b[0m: No data found in the saved file"
     ]
    }
   ],
   "source": [
    "import torch\n",
    "from stable_baselines3 import DQN  # Replace PPO with the appropriate algorithm if different\n",
    "\n",
    "# Paths to the saved files\n",
    "model_dir = 'C:\\\\capstone\\\\Python\\\\q_learning_model'\n",
    "\n",
    "# Load the model's policy\n",
    "policy_path = f'{model_dir}/policy.pth'\n",
    "policy_optimizer_path = f'{model_dir}/policy.optimizer.pth'\n",
    "pytorch_variables_path = f'{model_dir}/pytorch_variables.pth'\n",
    "\n",
    "# Load the model\n",
    "model = DQN.load(policy_path) \n",
    "\n",
    "# Load optimizer state (if resuming training)\n",
    "optimizer_state_dict = torch.load(policy_optimizer_path)\n",
    "model.policy.optimizer.load_state_dict(optimizer_state_dict)\n",
    "\n",
    "# Load additional PyTorch variables\n",
    "torch_variables = torch.load(pytorch_variables_path)\n",
    "\n",
    "# Optionally print loaded variables to check\n",
    "print(torch_variables)\n",
    "\n",
    "# Now you can use the model for predictions or further training\n"
   ]
  },
  {
   "cell_type": "code",
   "execution_count": null,
   "metadata": {},
   "outputs": [],
   "source": [
    "# Assuming you have an environment similar to the one used for training\n",
    "# Replace 'YourEnv' with the appropriate environment\n",
    "from stable_baselines3.common.envs import DummyVecEnv\n",
    "# from your_custom_env import YourEnv  # Import your custom environment if needed\n",
    "\n",
    "# Create the environment\n",
    "env = DummyVecEnv([lambda: EnergyPlusEnv()])  # Adjust based on your environment setup\n",
    "\n",
    "# Evaluate the model\n",
    "obs = env.reset()\n",
    "for _ in range(1000):\n",
    "    action, _states = model.predict(obs)\n",
    "    obs, rewards, dones, info = env.step(action)\n",
    "    env.render()\n"
   ]
  }
 ],
 "metadata": {
  "kernelspec": {
   "display_name": "project31",
   "language": "python",
   "name": "python3"
  },
  "language_info": {
   "codemirror_mode": {
    "name": "ipython",
    "version": 3
   },
   "file_extension": ".py",
   "mimetype": "text/x-python",
   "name": "python",
   "nbconvert_exporter": "python",
   "pygments_lexer": "ipython3",
   "version": "3.10.14"
  }
 },
 "nbformat": 4,
 "nbformat_minor": 2
}
