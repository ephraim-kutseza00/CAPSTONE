{
 "cells": [
  {
   "cell_type": "code",
   "execution_count": 2,
   "metadata": {},
   "outputs": [
    {
     "ename": "ModuleNotFoundError",
     "evalue": "No module named 'eplus_env'",
     "output_type": "error",
     "traceback": [
      "\u001b[1;31m---------------------------------------------------------------------------\u001b[0m",
      "\u001b[1;31mModuleNotFoundError\u001b[0m                       Traceback (most recent call last)",
      "Cell \u001b[1;32mIn[2], line 3\u001b[0m\n\u001b[0;32m      1\u001b[0m \u001b[38;5;28;01mimport\u001b[39;00m \u001b[38;5;21;01mgym\u001b[39;00m\n\u001b[0;32m      2\u001b[0m \u001b[38;5;28;01mfrom\u001b[39;00m \u001b[38;5;21;01mgym\u001b[39;00m \u001b[38;5;28;01mimport\u001b[39;00m spaces\n\u001b[1;32m----> 3\u001b[0m \u001b[38;5;28;01mimport\u001b[39;00m \u001b[38;5;21;01meplus_env\u001b[39;00m  \u001b[38;5;66;03m# Assuming a library to connect Gym and EnergyPlus\u001b[39;00m\n\u001b[0;32m      5\u001b[0m \u001b[38;5;28;01mclass\u001b[39;00m \u001b[38;5;21;01mEnergyPlusEnv\u001b[39;00m(gym\u001b[38;5;241m.\u001b[39mEnv):\n\u001b[0;32m      6\u001b[0m   \u001b[38;5;28;01mdef\u001b[39;00m \u001b[38;5;21m__init__\u001b[39m(\u001b[38;5;28mself\u001b[39m, idf_file):\n",
      "\u001b[1;31mModuleNotFoundError\u001b[0m: No module named 'eplus_env'"
     ]
    },
    {
     "ename": "",
     "evalue": "",
     "output_type": "error",
     "traceback": [
      "\u001b[1;31mThe Kernel crashed while executing code in the current cell or a previous cell. \n",
      "\u001b[1;31mPlease review the code in the cell(s) to identify a possible cause of the failure. \n",
      "\u001b[1;31mClick <a href='https://aka.ms/vscodeJupyterKernelCrash'>here</a> for more info. \n",
      "\u001b[1;31mView Jupyter <a href='command:jupyter.viewOutput'>log</a> for further details."
     ]
    }
   ],
   "source": [
    "import gym\n",
    "from gym import spaces\n",
    "import eplus_env  # Assuming a library to connect Gym and EnergyPlus\n",
    "import energym\n",
    "\n",
    "class EnergyPlusEnv(gym.Env):\n",
    "  def __init__(self, idf_file):\n",
    "    self.env = eplus_env.make('eplus-rl-v1', idf_file=idf_file)  # Replace with actual library call\n",
    "    self.observation_space = self.env.observation_space  # Get observation space from eplus_env\n",
    "    self.action_space = spaces.Box(low=0, high=1, shape=(2,))  # Example: Cooling setpoint, Heating setpoint (0-1 range)\n",
    "    self.episode_duration = 24*60  # Number of simulation timesteps (e.g., hourly)\n",
    "\n",
    "  def reset(self):\n",
    "    self.env.reset()  # Resets the EnergyPlus simulation\n",
    "    return self.env.observation  # Get initial state from eplus_env\n",
    "\n",
    "  def step(self, action):\n",
    "    # Send thermostats setpoints (action) to EnergyPlus through eplus_env\n",
    "    observation, reward, done, info = self.env.step(action)\n",
    "    # Calculate reward based on energy consumption and comfort metrics from observation\n",
    "    # Episode terminates after episode_duration timesteps\n",
    "    done = done or (self.env.time_step >= self.episode_duration)\n",
    "    return observation, reward, done, info\n",
    "\n",
    "  def render(self, mode=\"human\"):\n",
    "    # Call eplus_env render function if available (might return text data)\n",
    "    pass\n",
    "\n",
    "  def close(self):\n",
    "    self.env.close()  # Close the EnergyPlus environment\n"
   ]
  }
 ],
 "metadata": {
  "kernelspec": {
   "display_name": "PROJECT",
   "language": "python",
   "name": "python3"
  },
  "language_info": {
   "codemirror_mode": {
    "name": "ipython",
    "version": 3
   },
   "file_extension": ".py",
   "mimetype": "text/x-python",
   "name": "python",
   "nbconvert_exporter": "python",
   "pygments_lexer": "ipython3",
   "version": "3.12.3"
  }
 },
 "nbformat": 4,
 "nbformat_minor": 2
}
