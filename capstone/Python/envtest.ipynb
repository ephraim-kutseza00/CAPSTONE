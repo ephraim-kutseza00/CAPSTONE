{
 "cells": [
  {
   "cell_type": "code",
   "execution_count": 3,
   "metadata": {},
   "outputs": [],
   "source": [
    "import gym\n",
    "from gym import spaces\n",
    "\n",
    "class GridworldEnv(gym.Env):\n",
    "  def __init__(self, size):\n",
    "    self.size = size\n",
    "    self.action_space = spaces.Discrete(4)  # Up, Down, Left, Right\n",
    "    self.observation_space = spaces.Box(low=0, high=size-1, shape=(2,))  # (x, y) coordinates\n",
    "    self.reset()\n",
    "    print(\"Action space:\", self.action_space)\n",
    "    print(\"Observation space:\", self.observation_space)\n",
    "\n",
    "  def reset(self):\n",
    "    self.agent_pos = [self.size // 2, self.size // 2]  # Randomize for actual implementation\n",
    "    self.goal_pos = [self.rng.randint(0, self.size-1), self.rng.randint(0, self.size-1)]\n",
    "    return self.agent_pos\n",
    "\n",
    "  def step(self, action):\n",
    "    # Handle actions (up/down/left/right) and update agent position with bounds checking\n",
    "    reward = -1  # Penalty for each step\n",
    "    done = False\n",
    "    if self.agent_pos == self.goal_pos:\n",
    "      reward = 10  # Reward for reaching goal\n",
    "      done = True\n",
    "    return self.agent_pos, reward, done, {}  # Empty info dictionary for now\n",
    "\n",
    "  def render(self, mode=\"human\"):\n",
    "    # Implement human-readable or visual rendering based on mode\n",
    "    pass\n",
    "\n",
    "  def close(self):\n",
    "    pass\n"
   ]
  }
 ],
 "metadata": {
  "kernelspec": {
   "display_name": "PROJECT",
   "language": "python",
   "name": "python3"
  },
  "language_info": {
   "codemirror_mode": {
    "name": "ipython",
    "version": 3
   },
   "file_extension": ".py",
   "mimetype": "text/x-python",
   "name": "python",
   "nbconvert_exporter": "python",
   "pygments_lexer": "ipython3",
   "version": "3.10.14"
  }
 },
 "nbformat": 4,
 "nbformat_minor": 2
}
