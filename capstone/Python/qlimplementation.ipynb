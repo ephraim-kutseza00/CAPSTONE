{
 "cells": [
  {
   "cell_type": "code",
   "execution_count": 4,
   "metadata": {},
   "outputs": [],
   "source": [
    "import gym\n",
    "from stable_baselines3 import DQN\n",
    "import numpy as np\n",
    "from pyswarm import pso\n",
    "from stable_baselines3.common.evaluation import evaluate_policy\n",
    "import gym\n",
    "from gym import spaces\n",
    "import numpy as np\n",
    "from gym.envs.registration import register\n",
    "from pyenergyplus.api import EnergyPlusAPI"
   ]
  },
  {
   "cell_type": "code",
   "execution_count": 5,
   "metadata": {},
   "outputs": [
    {
     "ename": "AssertionError",
     "evalue": "Your environment must inherit from the gymnasium.Env class cf. https://gymnasium.farama.org/api/env/",
     "output_type": "error",
     "traceback": [
      "\u001b[1;31m---------------------------------------------------------------------------\u001b[0m",
      "\u001b[1;31mAssertionError\u001b[0m                            Traceback (most recent call last)",
      "Cell \u001b[1;32mIn[5], line 60\u001b[0m\n\u001b[0;32m     58\u001b[0m \u001b[38;5;66;03m# Check the environment (optional)\u001b[39;00m\n\u001b[0;32m     59\u001b[0m \u001b[38;5;28;01mfrom\u001b[39;00m \u001b[38;5;21;01mstable_baselines3\u001b[39;00m\u001b[38;5;21;01m.\u001b[39;00m\u001b[38;5;21;01mcommon\u001b[39;00m\u001b[38;5;21;01m.\u001b[39;00m\u001b[38;5;21;01menv_checker\u001b[39;00m \u001b[38;5;28;01mimport\u001b[39;00m check_env\n\u001b[1;32m---> 60\u001b[0m \u001b[43mcheck_env\u001b[49m\u001b[43m(\u001b[49m\u001b[43menv\u001b[49m\u001b[43m)\u001b[49m\n",
      "File \u001b[1;32mc:\\Users\\kutsezae\\AppData\\Local\\anaconda3\\envs\\project31\\lib\\site-packages\\stable_baselines3\\common\\env_checker.py:421\u001b[0m, in \u001b[0;36mcheck_env\u001b[1;34m(env, warn, skip_render_check)\u001b[0m\n\u001b[0;32m    406\u001b[0m \u001b[38;5;28;01mdef\u001b[39;00m \u001b[38;5;21mcheck_env\u001b[39m(env: gym\u001b[38;5;241m.\u001b[39mEnv, warn: \u001b[38;5;28mbool\u001b[39m \u001b[38;5;241m=\u001b[39m \u001b[38;5;28;01mTrue\u001b[39;00m, skip_render_check: \u001b[38;5;28mbool\u001b[39m \u001b[38;5;241m=\u001b[39m \u001b[38;5;28;01mTrue\u001b[39;00m) \u001b[38;5;241m-\u001b[39m\u001b[38;5;241m>\u001b[39m \u001b[38;5;28;01mNone\u001b[39;00m:\n\u001b[0;32m    407\u001b[0m \u001b[38;5;250m    \u001b[39m\u001b[38;5;124;03m\"\"\"\u001b[39;00m\n\u001b[0;32m    408\u001b[0m \u001b[38;5;124;03m    Check that an environment follows Gym API.\u001b[39;00m\n\u001b[0;32m    409\u001b[0m \u001b[38;5;124;03m    This is particularly useful when using a custom environment.\u001b[39;00m\n\u001b[1;32m   (...)\u001b[0m\n\u001b[0;32m    419\u001b[0m \u001b[38;5;124;03m        True by default (useful for the CI)\u001b[39;00m\n\u001b[0;32m    420\u001b[0m \u001b[38;5;124;03m    \"\"\"\u001b[39;00m\n\u001b[1;32m--> 421\u001b[0m     \u001b[38;5;28;01massert\u001b[39;00m \u001b[38;5;28misinstance\u001b[39m(\n\u001b[0;32m    422\u001b[0m         env, gym\u001b[38;5;241m.\u001b[39mEnv\n\u001b[0;32m    423\u001b[0m     ), \u001b[38;5;124m\"\u001b[39m\u001b[38;5;124mYour environment must inherit from the gymnasium.Env class cf. https://gymnasium.farama.org/api/env/\u001b[39m\u001b[38;5;124m\"\u001b[39m\n\u001b[0;32m    425\u001b[0m     \u001b[38;5;66;03m# ============= Check the spaces (observation and action) ================\u001b[39;00m\n\u001b[0;32m    426\u001b[0m     _check_spaces(env)\n",
      "\u001b[1;31mAssertionError\u001b[0m: Your environment must inherit from the gymnasium.Env class cf. https://gymnasium.farama.org/api/env/"
     ]
    }
   ],
   "source": [
    "import gym\n",
    "import numpy as np\n",
    "from gym import spaces\n",
    "\n",
    "class EnergyPlusEnv(gym.Env):\n",
    "    def __init__(self):\n",
    "        super(EnergyPlusEnv, self).__init__()\n",
    "        \n",
    "        # Define action and observation space\n",
    "        # Example: action space could be [0, 1, 2, 3] corresponding to different HVAC settings\n",
    "        self.action_space = spaces.Discrete(4) # low, mid, high. off\n",
    "        \n",
    "        # Observation space: example with indoor temp, outdoor temp, energy consumption, occupancy status\n",
    "        self.observation_space = spaces.Box(\n",
    "            low=np.array([0, -30, 0, 0]), \n",
    "            high=np.array([50, 50, 100, 1]), \n",
    "            dtype=np.float32\n",
    "        )\n",
    "        \n",
    "        # Initialize state\n",
    "        self.state = None\n",
    "        self.reset()\n",
    "\n",
    "    def step(self, action):\n",
    "        # Send action to EnergyPlus and get new state, reward, done\n",
    "        # This is a placeholder example\n",
    "        new_state = np.array([22, 10, 30, 1])  # Replace with actual call to EnergyPlus\n",
    "        reward = -1  # Replace with actual reward calculation\n",
    "        done = False  # Replace with actual done condition\n",
    "\n",
    "        self.state = new_state\n",
    "        return new_state, reward, done, {}\n",
    "\n",
    "    def reset(self):\n",
    "        # Reset EnergyPlus to initial state\n",
    "        # This is a placeholder example\n",
    "        initial_state = np.array([20, 10, 0, 1])  # Replace with actual reset logic\n",
    "        self.state = initial_state\n",
    "        return initial_state\n",
    "\n",
    "    def render(self, mode='human'):\n",
    "        # Render the environment (optional)\n",
    "        pass\n",
    "\n",
    "    def close(self):\n",
    "        # Close the environment (optional)\n",
    "        pass\n",
    "\n",
    "# Register the environment with Gym\n",
    "gym.envs.registration.register(\n",
    "    id='EnergyPlus-v0', \n",
    "    entry_point='__main__:EnergyPlusEnv'\n",
    ")\n",
    "\n",
    "# Create an instance of the environment\n",
    "env = gym.make('EnergyPlus-v0')\n",
    "\n",
    "# Check the environment (optional)\n",
    "from stable_baselines3.common.env_checker import check_env\n",
    "check_env(env)\n"
   ]
  },
  {
   "cell_type": "code",
   "execution_count": null,
   "metadata": {},
   "outputs": [
    {
     "ename": "NameError",
     "evalue": "name 'DQN' is not defined",
     "output_type": "error",
     "traceback": [
      "\u001b[1;31m---------------------------------------------------------------------------\u001b[0m",
      "\u001b[1;31mNameError\u001b[0m                                 Traceback (most recent call last)",
      "Cell \u001b[1;32mIn[10], line 2\u001b[0m\n\u001b[0;32m      1\u001b[0m \u001b[38;5;66;03m# Define the Q-learning model\u001b[39;00m\n\u001b[1;32m----> 2\u001b[0m model \u001b[38;5;241m=\u001b[39m \u001b[43mDQN\u001b[49m(\u001b[38;5;124m'\u001b[39m\u001b[38;5;124mMlpPolicy\u001b[39m\u001b[38;5;124m'\u001b[39m, env, verbose\u001b[38;5;241m=\u001b[39m\u001b[38;5;241m1\u001b[39m)\n\u001b[0;32m      4\u001b[0m \u001b[38;5;66;03m# Train the Q-learning model\u001b[39;00m\n\u001b[0;32m      5\u001b[0m model\u001b[38;5;241m.\u001b[39mlearn(total_timesteps\u001b[38;5;241m=\u001b[39m\u001b[38;5;241m10000\u001b[39m)\n",
      "\u001b[1;31mNameError\u001b[0m: name 'DQN' is not defined"
     ]
    }
   ],
   "source": [
    "# Define the Q-learning model\n",
    "model = DQN('MlpPolicy', env, verbose=1)\n",
    "\n",
    "# Train the Q-learning model\n",
    "model.learn(total_timesteps=10000)\n",
    "\n",
    "# Save the trained model\n",
    "model.save(\"q_learning_model\")\n",
    "\n",
    "# Evaluate the trained model\n",
    "mean_reward, std_reward = evaluate_policy(model, env, n_eval_episodes=10)\n",
    "print(f\"Mean reward: {mean_reward} +/- {std_reward}\")"
   ]
  },
  {
   "cell_type": "code",
   "execution_count": null,
   "metadata": {},
   "outputs": [],
   "source": [
    "# Define the fitness function for PSO\n",
    "def fitness(params):\n",
    "    learning_rate, gamma = params\n",
    "    \n",
    "    # Define the Q-learning model with the given parameters\n",
    "    model = DQN('MlpPolicy', env, learning_rate=learning_rate, gamma=gamma, verbose=0)\n",
    "    \n",
    "    # Train the model\n",
    "    model.learn(total_timesteps=5000)\n",
    "    \n",
    "    # Evaluate the trained model\n",
    "    mean_reward, _ = evaluate_policy(model, env, n_eval_episodes=10)\n",
    "    \n",
    "    # Return the negative mean reward as PSO minimizes the function\n",
    "    return -mean_reward\n",
    "\n",
    "# Set the bounds for the parameters: learning rate and gamma\n",
    "lb = [1e-5, 0.8]  # Lower bounds for learning rate and gamma\n",
    "ub = [1e-2, 0.99]  # Upper bounds for learning rate and gamma\n",
    "\n",
    "# Perform PSO to find the optimal parameters\n",
    "best_params, best_fitness = pso(fitness, lb, ub, swarmsize=10, maxiter=10)\n",
    "\n",
    "print(\"Best Parameters Found: Learning Rate = {}, Gamma = {}\".format(best_params[0], best_params[1]))\n",
    "print(\"Best Fitness (Negative Mean Reward):\", best_fitness)\n",
    "\n",
    "# Train the final Q-learning model using the optimized parameters\n",
    "optimal_learning_rate, optimal_gamma = best_params\n",
    "final_model = DQN('MlpPolicy', env, learning_rate=optimal_learning_rate, gamma=optimal_gamma, verbose=1)\n",
    "final_model.learn(total_timesteps=10000)\n",
    "\n",
    "# Evaluate the final model\n",
    "mean_reward, std_reward = evaluate_policy(final_model, env, n_eval_episodes=10)\n",
    "print(f\"Final Model Mean Reward: {mean_reward} +/- {std_reward}\")"
   ]
  }
 ],
 "metadata": {
  "kernelspec": {
   "display_name": "PROJECT",
   "language": "python",
   "name": "python3"
  },
  "language_info": {
   "codemirror_mode": {
    "name": "ipython",
    "version": 3
   },
   "file_extension": ".py",
   "mimetype": "text/x-python",
   "name": "python",
   "nbconvert_exporter": "python",
   "pygments_lexer": "ipython3",
   "version": "3.10.14"
  }
 },
 "nbformat": 4,
 "nbformat_minor": 2
}
