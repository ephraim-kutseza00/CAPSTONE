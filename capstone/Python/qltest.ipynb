{
 "cells": [
  {
   "cell_type": "code",
   "execution_count": 1,
   "metadata": {},
   "outputs": [
    {
     "name": "stdout",
     "output_type": "stream",
     "text": [
      "Couldn't import dot_parser, loading of dot files will not be possible.\n"
     ]
    },
    {
     "name": "stderr",
     "output_type": "stream",
     "text": [
      "c:\\Users\\kutsezae\\AppData\\Local\\anaconda3\\envs\\PROJECT\\Lib\\site-packages\\gym\\spaces\\box.py:127: UserWarning: \u001b[33mWARN: Box bound precision lowered by casting to float32\u001b[0m\n",
      "  logger.warn(f\"Box bound precision lowered by casting to {self.dtype}\")\n"
     ]
    },
    {
     "name": "stdout",
     "output_type": "stream",
     "text": [
      "Action space: Discrete(3)\n",
      "Observation space: Box([  0. -30.   0.   0.], [ 50.  50. 100.   1.], (4,), float32)\n"
     ]
    },
    {
     "ename": "AssertionError",
     "evalue": "Your environment must inherit from the gymnasium.Env class cf. https://gymnasium.farama.org/api/env/",
     "output_type": "error",
     "traceback": [
      "\u001b[1;31m---------------------------------------------------------------------------\u001b[0m",
      "\u001b[1;31mAssertionError\u001b[0m                            Traceback (most recent call last)",
      "Cell \u001b[1;32mIn[1], line 68\u001b[0m\n\u001b[0;32m     65\u001b[0m env \u001b[38;5;241m=\u001b[39m gym\u001b[38;5;241m.\u001b[39mmake(\u001b[38;5;124m'\u001b[39m\u001b[38;5;124mEnergyPlus-v0\u001b[39m\u001b[38;5;124m'\u001b[39m)\n\u001b[0;32m     67\u001b[0m \u001b[38;5;66;03m# Validate the environment\u001b[39;00m\n\u001b[1;32m---> 68\u001b[0m check_env(env)\n\u001b[0;32m     70\u001b[0m \u001b[38;5;66;03m# Define the Q-learning model\u001b[39;00m\n\u001b[0;32m     71\u001b[0m model \u001b[38;5;241m=\u001b[39m DQN(\u001b[38;5;124m'\u001b[39m\u001b[38;5;124mMlpPolicy\u001b[39m\u001b[38;5;124m'\u001b[39m, env, verbose\u001b[38;5;241m=\u001b[39m\u001b[38;5;241m1\u001b[39m)\n",
      "File \u001b[1;32mc:\\Users\\kutsezae\\AppData\\Local\\anaconda3\\envs\\PROJECT\\Lib\\site-packages\\stable_baselines3\\common\\env_checker.py:421\u001b[0m, in \u001b[0;36mcheck_env\u001b[1;34m(env, warn, skip_render_check)\u001b[0m\n\u001b[0;32m    406\u001b[0m \u001b[38;5;28;01mdef\u001b[39;00m \u001b[38;5;21mcheck_env\u001b[39m(env: gym\u001b[38;5;241m.\u001b[39mEnv, warn: \u001b[38;5;28mbool\u001b[39m \u001b[38;5;241m=\u001b[39m \u001b[38;5;28;01mTrue\u001b[39;00m, skip_render_check: \u001b[38;5;28mbool\u001b[39m \u001b[38;5;241m=\u001b[39m \u001b[38;5;28;01mTrue\u001b[39;00m) \u001b[38;5;241m-\u001b[39m\u001b[38;5;241m>\u001b[39m \u001b[38;5;28;01mNone\u001b[39;00m:\n\u001b[0;32m    407\u001b[0m \u001b[38;5;250m    \u001b[39m\u001b[38;5;124;03m\"\"\"\u001b[39;00m\n\u001b[0;32m    408\u001b[0m \u001b[38;5;124;03m    Check that an environment follows Gym API.\u001b[39;00m\n\u001b[0;32m    409\u001b[0m \u001b[38;5;124;03m    This is particularly useful when using a custom environment.\u001b[39;00m\n\u001b[1;32m   (...)\u001b[0m\n\u001b[0;32m    419\u001b[0m \u001b[38;5;124;03m        True by default (useful for the CI)\u001b[39;00m\n\u001b[0;32m    420\u001b[0m \u001b[38;5;124;03m    \"\"\"\u001b[39;00m\n\u001b[1;32m--> 421\u001b[0m     \u001b[38;5;28;01massert\u001b[39;00m \u001b[38;5;28misinstance\u001b[39m(\n\u001b[0;32m    422\u001b[0m         env, gym\u001b[38;5;241m.\u001b[39mEnv\n\u001b[0;32m    423\u001b[0m     ), \u001b[38;5;124m\"\u001b[39m\u001b[38;5;124mYour environment must inherit from the gymnasium.Env class cf. https://gymnasium.farama.org/api/env/\u001b[39m\u001b[38;5;124m\"\u001b[39m\n\u001b[0;32m    425\u001b[0m     \u001b[38;5;66;03m# ============= Check the spaces (observation and action) ================\u001b[39;00m\n\u001b[0;32m    426\u001b[0m     _check_spaces(env)\n",
      "\u001b[1;31mAssertionError\u001b[0m: Your environment must inherit from the gymnasium.Env class cf. https://gymnasium.farama.org/api/env/"
     ]
    },
    {
     "ename": "",
     "evalue": "",
     "output_type": "error",
     "traceback": [
      "\u001b[1;31mThe Kernel crashed while executing code in the current cell or a previous cell. \n",
      "\u001b[1;31mPlease review the code in the cell(s) to identify a possible cause of the failure. \n",
      "\u001b[1;31mClick <a href='https://aka.ms/vscodeJupyterKernelCrash'>here</a> for more info. \n",
      "\u001b[1;31mView Jupyter <a href='command:jupyter.viewOutput'>log</a> for further details."
     ]
    }
   ],
   "source": [
    "import gym\n",
    "from gym import spaces\n",
    "import numpy as np\n",
    "from stable_baselines3 import DQN\n",
    "from stable_baselines3.common.evaluation import evaluate_policy\n",
    "from stable_baselines3.common.env_checker import check_env\n",
    "\n",
    "class EnergyPlusEnv(gym.Env):\n",
    "    def __init__(self):\n",
    "        super(EnergyPlusEnv, self).__init__()\n",
    "        \n",
    "        # Define action space (e.g., 3 thermostat settings)\n",
    "        self.action_space = spaces.Discrete(3)\n",
    "        \n",
    "        # Define observation space: indoor temp, outdoor temp, energy consumption, occupancy status\n",
    "        self.observation_space = spaces.Box(\n",
    "            low=np.array([0, -30, 0, 0]),\n",
    "            high=np.array([50, 50, 100, 1]),\n",
    "            dtype=np.float32\n",
    "        )\n",
    "        \n",
    "        # Print action space and observation space\n",
    "        print(\"Action space:\", self.action_space)\n",
    "        print(\"Observation space:\", self.observation_space)\n",
    "\n",
    "    def step(self, action):\n",
    "        # Placeholder implementation for the step function\n",
    "        # Here, you would integrate with EnergyPlus to perform a simulation step\n",
    "        new_state = np.array([22, 10, 30, 1])  # Example state values\n",
    "        reward = -1  # Example reward\n",
    "        done = False  # Example termination condition\n",
    "        \n",
    "        # Print debug information\n",
    "        print(\"Action taken:\", action)\n",
    "        print(\"New state:\", new_state)\n",
    "        print(\"Reward:\", reward)\n",
    "        print(\"Done:\", done)\n",
    "        \n",
    "        # Return the new state, reward, done flag, and additional info\n",
    "        return new_state, reward, done, {}\n",
    "\n",
    "    def reset(self):\n",
    "        # Placeholder implementation for the reset function\n",
    "        # Here, you would reset the EnergyPlus simulation to the initial state\n",
    "        initial_state = np.array([20, 10, 0, 1])  # Example initial state values\n",
    "        \n",
    "        # Print debug information\n",
    "        print(\"Environment reset\")\n",
    "        print(\"Initial state:\", initial_state)\n",
    "        \n",
    "        return initial_state\n",
    "\n",
    "    def render(self, mode='human'):\n",
    "        # Placeholder implementation for the render function\n",
    "        pass\n",
    "\n",
    "    def close(self):\n",
    "        # Placeholder implementation for the close function\n",
    "        pass\n",
    "\n",
    "# Register the custom environment with Gym\n",
    "gym.register(id='EnergyPlus-v0', entry_point='__main__:EnergyPlusEnv')\n",
    "\n",
    "# Create an instance of the environment\n",
    "env = gym.make('EnergyPlus-v0')\n",
    "\n",
    "# Validate the environment\n",
    "check_env(env)\n",
    "\n",
    "# Define the Q-learning model\n",
    "model = DQN('MlpPolicy', env, verbose=1)\n",
    "\n",
    "# Train the Q-learning model\n",
    "model.learn(total_timesteps=10000)\n",
    "\n",
    "# Save the trained model\n",
    "model.save(\"q_learning_model\")\n",
    "\n",
    "# Evaluate the trained model\n",
    "mean_reward, std_reward = evaluate_policy(model, env, n_eval_episodes=10)\n",
    "print(f\"Mean reward: {mean_reward} +/- {std_reward}\")\n"
   ]
  }
 ],
 "metadata": {
  "kernelspec": {
   "display_name": "PROJECT",
   "language": "python",
   "name": "python3"
  },
  "language_info": {
   "codemirror_mode": {
    "name": "ipython",
    "version": 3
   },
   "file_extension": ".py",
   "mimetype": "text/x-python",
   "name": "python",
   "nbconvert_exporter": "python",
   "pygments_lexer": "ipython3",
   "version": "3.12.3"
  }
 },
 "nbformat": 4,
 "nbformat_minor": 2
}
