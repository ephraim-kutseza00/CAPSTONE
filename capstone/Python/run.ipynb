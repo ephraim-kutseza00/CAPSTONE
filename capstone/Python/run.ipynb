{
 "cells": [
  {
   "cell_type": "code",
   "execution_count": 5,
   "metadata": {},
   "outputs": [],
   "source": [
    "from eppy import modeleditor\n",
    "from eppy.modeleditor import IDF\n",
    "import subprocess"
   ]
  },
  {
   "cell_type": "code",
   "execution_count": 6,
   "metadata": {},
   "outputs": [],
   "source": [
    "idd_path = \"C:\\\\EnergyPlusV23-2-0\\\\Energy+.idd\"\n",
    "idf_path = \"C:\\\\capstone\\\\simulation1\\\\MixedUseHouse.idf\"\n",
    "weather_path = \"C:\\\\capstone\\\\WeatherData\\\\USA_IL_Chicago-OHare.Intl.AP.725300_TMY3.epw\"\n",
    "output_dir = \"C:\\\\capstone\\\\simulation1\\\\python simulations\\\\output\""
   ]
  },
  {
   "cell_type": "code",
   "execution_count": 7,
   "metadata": {},
   "outputs": [],
   "source": [
    "def run_energyplus(idf_path, weather_path, output_dir):\n",
    "    energyplus_exe = \"C:\\\\EnergyPlusV23-2-0\\\\EP-Launch.exe\"  \n",
    "\n",
    "    command = [\n",
    "        energyplus_exe,\n",
    "        '-w', weather_path,\n",
    "        '-d', output_dir,\n",
    "        idf_path\n",
    "    ]\n",
    "\n",
    "    subprocess.run(command, check=True)\n",
    "\n",
    "# Run the EnergyPlus simulation\n",
    "run_energyplus(idf_path, weather_path, output_dir)"
   ]
  }
 ],
 "metadata": {
  "kernelspec": {
   "display_name": "project31",
   "language": "python",
   "name": "python3"
  },
  "language_info": {
   "codemirror_mode": {
    "name": "ipython",
    "version": 3
   },
   "file_extension": ".py",
   "mimetype": "text/x-python",
   "name": "python",
   "nbconvert_exporter": "python",
   "pygments_lexer": "ipython3",
   "version": "3.10.14"
  }
 },
 "nbformat": 4,
 "nbformat_minor": 2
}
