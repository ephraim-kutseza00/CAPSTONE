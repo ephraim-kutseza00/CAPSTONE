{
 "cells": [
  {
   "cell_type": "code",
   "execution_count": 3,
   "metadata": {},
   "outputs": [
    {
     "ename": "AttributeError",
     "evalue": "'EnergyManagementEnv' object has no attribute 'state_space'",
     "output_type": "error",
     "traceback": [
      "\u001b[1;31m---------------------------------------------------------------------------\u001b[0m",
      "\u001b[1;31mAttributeError\u001b[0m                            Traceback (most recent call last)",
      "Cell \u001b[1;32mIn[3], line 33\u001b[0m\n\u001b[0;32m     31\u001b[0m \u001b[38;5;66;03m# Initialize Q-table\u001b[39;00m\n\u001b[0;32m     32\u001b[0m env \u001b[38;5;241m=\u001b[39m EnergyManagementEnv()\n\u001b[1;32m---> 33\u001b[0m q_table \u001b[38;5;241m=\u001b[39m np\u001b[38;5;241m.\u001b[39mzeros((\u001b[43menv\u001b[49m\u001b[38;5;241;43m.\u001b[39;49m\u001b[43mstate_space\u001b[49m, env\u001b[38;5;241m.\u001b[39maction_space))\n\u001b[0;32m     35\u001b[0m \u001b[38;5;66;03m# Q-learning algorithm\u001b[39;00m\n\u001b[0;32m     36\u001b[0m \u001b[38;5;28;01mfor\u001b[39;00m episode \u001b[38;5;129;01min\u001b[39;00m \u001b[38;5;28mrange\u001b[39m(episodes):\n",
      "\u001b[1;31mAttributeError\u001b[0m: 'EnergyManagementEnv' object has no attribute 'state_space'"
     ]
    }
   ],
   "source": [
    "import numpy as np\n",
    "import random\n",
    "\n",
    "# Define the environment\n",
    "class EnergyManagementEnv:\n",
    "    def _init_(self):\n",
    "        super(EnergyManagementEnv, self).__init__()\n",
    "        \n",
    "        self.state_space = 10  # Example state space size\n",
    "        self.action_space = 5  # Example action space size\n",
    "        self.state = 0\n",
    "        \n",
    "        self.state = self.state_space.sample()\n",
    "\n",
    "    def reset(self):\n",
    "        self.state = 0\n",
    "        return self.state\n",
    "\n",
    "    def step(self, action):\n",
    "        reward = -np.abs(self.state - action)  # Example reward function\n",
    "        self.state = (self.state + action) % self.state_space\n",
    "        done = self.state == 0\n",
    "        return self.state, reward, done\n",
    "\n",
    "# Q-learning parameters\n",
    "alpha = 0.1  # Learning rate\n",
    "gamma = 0.6  # Discount factor\n",
    "epsilon = 0.1  # Exploration rate\n",
    "episodes = 1000\n",
    "\n",
    "# Initialize Q-table\n",
    "env = EnergyManagementEnv()\n",
    "q_table = np.zeros((env.state_space, env.action_space))\n",
    "\n",
    "# Q-learning algorithm\n",
    "for episode in range(episodes):\n",
    "    state = env.reset()\n",
    "    done = False\n",
    "\n",
    "    while not done:\n",
    "        if random.uniform(0, 1) < epsilon:\n",
    "            action = random.randint(0, env.action_space - 1)  # Explore action space\n",
    "        else:\n",
    "            action = np.argmax(q_table[state])  # Exploit learned values\n",
    "\n",
    "        next_state, reward, done = env.step(action)\n",
    "        old_value = q_table[state, action]\n",
    "        next_max = np.max(q_table[next_state])\n",
    "\n",
    "        new_value = (1 - alpha) * old_value + alpha * (reward + gamma * next_max)\n",
    "        q_table[state, action] = new_value\n",
    "\n",
    "        state = next_state\n",
    "\n",
    "print(\"Q-table:\")\n",
    "print(q_table)"
   ]
  }
 ],
 "metadata": {
  "kernelspec": {
   "display_name": "project31",
   "language": "python",
   "name": "python3"
  },
  "language_info": {
   "codemirror_mode": {
    "name": "ipython",
    "version": 3
   },
   "file_extension": ".py",
   "mimetype": "text/x-python",
   "name": "python",
   "nbconvert_exporter": "python",
   "pygments_lexer": "ipython3",
   "version": "3.10.14"
  }
 },
 "nbformat": 4,
 "nbformat_minor": 2
}
