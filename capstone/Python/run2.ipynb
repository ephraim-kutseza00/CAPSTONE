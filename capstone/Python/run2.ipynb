{
 "cells": [
  {
   "cell_type": "code",
   "execution_count": 7,
   "metadata": {},
   "outputs": [],
   "source": [
    "from eppy.modeleditor import IDF"
   ]
  },
  {
   "cell_type": "code",
   "execution_count": 8,
   "metadata": {},
   "outputs": [],
   "source": [
    "IDD_File = \"C:\\\\EnergyPlusV23-2-0\\\\Energy+.idd\"\n",
    "IDF_File = \"C:\\\\capstone\\\\simulation1\\\\MixedUseHouse.idf\"\n",
    "EPW_File = \"C:\\\\capstone\\\\WeatherData\\\\USA_IL_Chicago-OHare.Intl.AP.725300_TMY3.epw\"\n",
    "DATA_Folder = \"C:\\\\capstone\\\\simulation1\\\\python simulations\\\\output\""
   ]
  },
  {
   "cell_type": "code",
   "execution_count": 9,
   "metadata": {},
   "outputs": [
    {
     "name": "stdout",
     "output_type": "stream",
     "text": [
      "\n",
      "C:\\EnergyPlusV23-2-0\\energyplus.exe --weather C:\\capstone\\WeatherData\\USA_IL_Chicago-OHare.Intl.AP.725300_TMY3.epw --output-directory C:\\capstone\\simulation1\\python simulations\\output --idd C:\\EnergyPlusV23-2-0\\Energy+.idd --expandobjects --readvars C:\\capstone\\simulation1\\MixedUseHouse_093135.idf\n",
      "\n"
     ]
    }
   ],
   "source": [
    "IDF.setiddname(IDD_File)\n",
    "idf = IDF(IDF_File, EPW_File)\n",
    "idf.run(expandobjects = True, readvars = True, output_directory = DATA_Folder)"
   ]
  }
 ],
 "metadata": {
  "kernelspec": {
   "display_name": "project31",
   "language": "python",
   "name": "python3"
  },
  "language_info": {
   "codemirror_mode": {
    "name": "ipython",
    "version": 3
   },
   "file_extension": ".py",
   "mimetype": "text/x-python",
   "name": "python",
   "nbconvert_exporter": "python",
   "pygments_lexer": "ipython3",
   "version": "3.10.14"
  }
 },
 "nbformat": 4,
 "nbformat_minor": 2
}
